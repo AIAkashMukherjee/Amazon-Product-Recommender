{
 "cells": [
  {
   "cell_type": "code",
   "execution_count": 77,
   "id": "4a265568",
   "metadata": {},
   "outputs": [],
   "source": [
    "import pandas as pd"
   ]
  },
  {
   "cell_type": "code",
   "execution_count": 78,
   "id": "235a18b8",
   "metadata": {},
   "outputs": [
    {
     "data": {
      "text/html": [
       "<div>\n",
       "<style scoped>\n",
       "    .dataframe tbody tr th:only-of-type {\n",
       "        vertical-align: middle;\n",
       "    }\n",
       "\n",
       "    .dataframe tbody tr th {\n",
       "        vertical-align: top;\n",
       "    }\n",
       "\n",
       "    .dataframe thead th {\n",
       "        text-align: right;\n",
       "    }\n",
       "</style>\n",
       "<table border=\"1\" class=\"dataframe\">\n",
       "  <thead>\n",
       "    <tr style=\"text-align: right;\">\n",
       "      <th></th>\n",
       "      <th>title</th>\n",
       "      <th>price</th>\n",
       "      <th>rating</th>\n",
       "      <th>reviews</th>\n",
       "      <th>availability</th>\n",
       "      <th>Category</th>\n",
       "    </tr>\n",
       "  </thead>\n",
       "  <tbody>\n",
       "    <tr>\n",
       "      <th>0</th>\n",
       "      <td>Peter England Men's Everday Regular Fit Solid ...</td>\n",
       "      <td>0.0</td>\n",
       "      <td>4.0</td>\n",
       "      <td>554</td>\n",
       "      <td>In stock</td>\n",
       "      <td>men shirt</td>\n",
       "    </tr>\n",
       "    <tr>\n",
       "      <th>1</th>\n",
       "      <td>Amazon Brand - Symbol Men's Cotton Shirt | Cas...</td>\n",
       "      <td>0.0</td>\n",
       "      <td>3.8</td>\n",
       "      <td>7182</td>\n",
       "      <td>In stock</td>\n",
       "      <td>men shirt</td>\n",
       "    </tr>\n",
       "    <tr>\n",
       "      <th>2</th>\n",
       "      <td>Amazon Brand - Symbol Men's Cotton Shirt | Chi...</td>\n",
       "      <td>0.0</td>\n",
       "      <td>3.9</td>\n",
       "      <td>6603</td>\n",
       "      <td>In stock</td>\n",
       "      <td>men shirt</td>\n",
       "    </tr>\n",
       "    <tr>\n",
       "      <th>3</th>\n",
       "      <td>Lymio Casual Regular Fit Shirt for Men|| Regul...</td>\n",
       "      <td>0.0</td>\n",
       "      <td>3.7</td>\n",
       "      <td>2056</td>\n",
       "      <td>In stock</td>\n",
       "      <td>men shirt</td>\n",
       "    </tr>\n",
       "    <tr>\n",
       "      <th>4</th>\n",
       "      <td>Men's Solid Linen Cotton Shirt | Casual | Plai...</td>\n",
       "      <td>0.0</td>\n",
       "      <td>2.8</td>\n",
       "      <td>55</td>\n",
       "      <td>In stock</td>\n",
       "      <td>men shirt</td>\n",
       "    </tr>\n",
       "    <tr>\n",
       "      <th>...</th>\n",
       "      <td>...</td>\n",
       "      <td>...</td>\n",
       "      <td>...</td>\n",
       "      <td>...</td>\n",
       "      <td>...</td>\n",
       "      <td>...</td>\n",
       "    </tr>\n",
       "    <tr>\n",
       "      <th>2082</th>\n",
       "      <td>Daniel Hechter Paris Orsay Collection Multifun...</td>\n",
       "      <td>0.0</td>\n",
       "      <td>0.0</td>\n",
       "      <td>0</td>\n",
       "      <td>In stock</td>\n",
       "      <td>watches</td>\n",
       "    </tr>\n",
       "    <tr>\n",
       "      <th>2083</th>\n",
       "      <td>OLEVS Men's Business Watch Gold Blue with Larg...</td>\n",
       "      <td>0.0</td>\n",
       "      <td>3.6</td>\n",
       "      <td>1770</td>\n",
       "      <td>In stock</td>\n",
       "      <td>watches</td>\n",
       "    </tr>\n",
       "    <tr>\n",
       "      <th>2084</th>\n",
       "      <td>LOUIS DEVIN WT030 Leather Strap Analog Wrist W...</td>\n",
       "      <td>0.0</td>\n",
       "      <td>3.7</td>\n",
       "      <td>3336</td>\n",
       "      <td>In stock</td>\n",
       "      <td>watches</td>\n",
       "    </tr>\n",
       "    <tr>\n",
       "      <th>2085</th>\n",
       "      <td>Carlington Iconic Analog Wrist Watches for Men...</td>\n",
       "      <td>0.0</td>\n",
       "      <td>4.3</td>\n",
       "      <td>128</td>\n",
       "      <td>In stock</td>\n",
       "      <td>watches</td>\n",
       "    </tr>\n",
       "    <tr>\n",
       "      <th>2086</th>\n",
       "      <td>Carlington Resin Endurance Analog-Digital Spor...</td>\n",
       "      <td>0.0</td>\n",
       "      <td>4.2</td>\n",
       "      <td>1635</td>\n",
       "      <td>In stock</td>\n",
       "      <td>watches</td>\n",
       "    </tr>\n",
       "  </tbody>\n",
       "</table>\n",
       "<p>2087 rows × 6 columns</p>\n",
       "</div>"
      ],
      "text/plain": [
       "                                                  title  price  rating  \\\n",
       "0     Peter England Men's Everday Regular Fit Solid ...    0.0     4.0   \n",
       "1     Amazon Brand - Symbol Men's Cotton Shirt | Cas...    0.0     3.8   \n",
       "2     Amazon Brand - Symbol Men's Cotton Shirt | Chi...    0.0     3.9   \n",
       "3     Lymio Casual Regular Fit Shirt for Men|| Regul...    0.0     3.7   \n",
       "4     Men's Solid Linen Cotton Shirt | Casual | Plai...    0.0     2.8   \n",
       "...                                                 ...    ...     ...   \n",
       "2082  Daniel Hechter Paris Orsay Collection Multifun...    0.0     0.0   \n",
       "2083  OLEVS Men's Business Watch Gold Blue with Larg...    0.0     3.6   \n",
       "2084  LOUIS DEVIN WT030 Leather Strap Analog Wrist W...    0.0     3.7   \n",
       "2085  Carlington Iconic Analog Wrist Watches for Men...    0.0     4.3   \n",
       "2086  Carlington Resin Endurance Analog-Digital Spor...    0.0     4.2   \n",
       "\n",
       "      reviews availability   Category  \n",
       "0         554     In stock  men shirt  \n",
       "1        7182     In stock  men shirt  \n",
       "2        6603     In stock  men shirt  \n",
       "3        2056     In stock  men shirt  \n",
       "4          55     In stock  men shirt  \n",
       "...       ...          ...        ...  \n",
       "2082        0     In stock    watches  \n",
       "2083     1770     In stock    watches  \n",
       "2084     3336     In stock    watches  \n",
       "2085      128     In stock    watches  \n",
       "2086     1635     In stock    watches  \n",
       "\n",
       "[2087 rows x 6 columns]"
      ]
     },
     "execution_count": 78,
     "metadata": {},
     "output_type": "execute_result"
    }
   ],
   "source": [
    "clean_df=pd.read_csv('../artifacts/data/cleaned_data.csv')\n",
    "clean_df"
   ]
  },
  {
   "cell_type": "code",
   "execution_count": 79,
   "id": "99d16b6f",
   "metadata": {},
   "outputs": [
    {
     "data": {
      "text/html": [
       "<div>\n",
       "<style scoped>\n",
       "    .dataframe tbody tr th:only-of-type {\n",
       "        vertical-align: middle;\n",
       "    }\n",
       "\n",
       "    .dataframe tbody tr th {\n",
       "        vertical-align: top;\n",
       "    }\n",
       "\n",
       "    .dataframe thead th {\n",
       "        text-align: right;\n",
       "    }\n",
       "</style>\n",
       "<table border=\"1\" class=\"dataframe\">\n",
       "  <thead>\n",
       "    <tr style=\"text-align: right;\">\n",
       "      <th></th>\n",
       "      <th>title</th>\n",
       "      <th>price</th>\n",
       "      <th>rating</th>\n",
       "      <th>reviews</th>\n",
       "      <th>availability</th>\n",
       "      <th>Category</th>\n",
       "    </tr>\n",
       "  </thead>\n",
       "  <tbody>\n",
       "    <tr>\n",
       "      <th>0</th>\n",
       "      <td>Peter England Men's Everday Regular Fit Solid ...</td>\n",
       "      <td></td>\n",
       "      <td>4.0 out of 5 stars</td>\n",
       "      <td>554 ratings</td>\n",
       "      <td>Available to ship in 1-2 days</td>\n",
       "      <td>amazon_men shirt_data</td>\n",
       "    </tr>\n",
       "    <tr>\n",
       "      <th>1</th>\n",
       "      <td>Amazon Brand - Symbol Men's Cotton Shirt | Cas...</td>\n",
       "      <td></td>\n",
       "      <td>3.8 out of 5 stars</td>\n",
       "      <td>7,182 ratings</td>\n",
       "      <td>In stock</td>\n",
       "      <td>amazon_men shirt_data</td>\n",
       "    </tr>\n",
       "    <tr>\n",
       "      <th>2</th>\n",
       "      <td>Amazon Brand - Symbol Men's Cotton Shirt | Chi...</td>\n",
       "      <td></td>\n",
       "      <td>3.9 out of 5 stars</td>\n",
       "      <td>6,603 ratings</td>\n",
       "      <td>In stock</td>\n",
       "      <td>amazon_men shirt_data</td>\n",
       "    </tr>\n",
       "    <tr>\n",
       "      <th>3</th>\n",
       "      <td>Lymio Casual Regular Fit Shirt for Men|| Regul...</td>\n",
       "      <td></td>\n",
       "      <td>3.7 out of 5 stars</td>\n",
       "      <td>2,056 ratings</td>\n",
       "      <td>In stock</td>\n",
       "      <td>amazon_men shirt_data</td>\n",
       "    </tr>\n",
       "    <tr>\n",
       "      <th>4</th>\n",
       "      <td>Men's Solid Linen Cotton Shirt | Casual | Plai...</td>\n",
       "      <td></td>\n",
       "      <td>2.8 out of 5 stars</td>\n",
       "      <td>55 ratings</td>\n",
       "      <td>In stock</td>\n",
       "      <td>amazon_men shirt_data</td>\n",
       "    </tr>\n",
       "    <tr>\n",
       "      <th>...</th>\n",
       "      <td>...</td>\n",
       "      <td>...</td>\n",
       "      <td>...</td>\n",
       "      <td>...</td>\n",
       "      <td>...</td>\n",
       "      <td>...</td>\n",
       "    </tr>\n",
       "    <tr>\n",
       "      <th>2941</th>\n",
       "      <td>SKMEI Men's Analog Sports Watch Waterproof Led...</td>\n",
       "      <td></td>\n",
       "      <td>4.7 out of 5 stars</td>\n",
       "      <td>67 ratings</td>\n",
       "      <td>In stock</td>\n",
       "      <td>amazon_watches_data</td>\n",
       "    </tr>\n",
       "    <tr>\n",
       "      <th>2942</th>\n",
       "      <td>Matrix Antique 2.0 Day &amp; Date Softest Silicone...</td>\n",
       "      <td></td>\n",
       "      <td>4.0 out of 5 stars</td>\n",
       "      <td>2,447 ratings</td>\n",
       "      <td>In stock</td>\n",
       "      <td>amazon_watches_data</td>\n",
       "    </tr>\n",
       "    <tr>\n",
       "      <th>2943</th>\n",
       "      <td>BENYAR Automatic Mechanical Skeleton Leather S...</td>\n",
       "      <td></td>\n",
       "      <td>4.0 out of 5 stars</td>\n",
       "      <td>1,062 ratings</td>\n",
       "      <td>In stock</td>\n",
       "      <td>amazon_watches_data</td>\n",
       "    </tr>\n",
       "    <tr>\n",
       "      <th>2944</th>\n",
       "      <td>Sapphero Men Watches 50M Waterproof Wristwatch...</td>\n",
       "      <td></td>\n",
       "      <td>4.2 out of 5 stars</td>\n",
       "      <td>256 ratings</td>\n",
       "      <td>In stock</td>\n",
       "      <td>amazon_watches_data</td>\n",
       "    </tr>\n",
       "    <tr>\n",
       "      <th>2945</th>\n",
       "      <td>Shocknshop Digital Sports Stylish Multifunctio...</td>\n",
       "      <td></td>\n",
       "      <td>4.0 out of 5 stars</td>\n",
       "      <td>791 ratings</td>\n",
       "      <td>In stock</td>\n",
       "      <td>amazon_watches_data</td>\n",
       "    </tr>\n",
       "  </tbody>\n",
       "</table>\n",
       "<p>2946 rows × 6 columns</p>\n",
       "</div>"
      ],
      "text/plain": [
       "                                                  title price  \\\n",
       "0     Peter England Men's Everday Regular Fit Solid ...         \n",
       "1     Amazon Brand - Symbol Men's Cotton Shirt | Cas...         \n",
       "2     Amazon Brand - Symbol Men's Cotton Shirt | Chi...         \n",
       "3     Lymio Casual Regular Fit Shirt for Men|| Regul...         \n",
       "4     Men's Solid Linen Cotton Shirt | Casual | Plai...         \n",
       "...                                                 ...   ...   \n",
       "2941  SKMEI Men's Analog Sports Watch Waterproof Led...         \n",
       "2942  Matrix Antique 2.0 Day & Date Softest Silicone...         \n",
       "2943  BENYAR Automatic Mechanical Skeleton Leather S...         \n",
       "2944  Sapphero Men Watches 50M Waterproof Wristwatch...         \n",
       "2945  Shocknshop Digital Sports Stylish Multifunctio...         \n",
       "\n",
       "                  rating        reviews                   availability  \\\n",
       "0     4.0 out of 5 stars    554 ratings  Available to ship in 1-2 days   \n",
       "1     3.8 out of 5 stars  7,182 ratings                       In stock   \n",
       "2     3.9 out of 5 stars  6,603 ratings                       In stock   \n",
       "3     3.7 out of 5 stars  2,056 ratings                       In stock   \n",
       "4     2.8 out of 5 stars     55 ratings                       In stock   \n",
       "...                  ...            ...                            ...   \n",
       "2941  4.7 out of 5 stars     67 ratings                       In stock   \n",
       "2942  4.0 out of 5 stars  2,447 ratings                       In stock   \n",
       "2943  4.0 out of 5 stars  1,062 ratings                       In stock   \n",
       "2944  4.2 out of 5 stars    256 ratings                       In stock   \n",
       "2945  4.0 out of 5 stars    791 ratings                       In stock   \n",
       "\n",
       "                   Category  \n",
       "0     amazon_men shirt_data  \n",
       "1     amazon_men shirt_data  \n",
       "2     amazon_men shirt_data  \n",
       "3     amazon_men shirt_data  \n",
       "4     amazon_men shirt_data  \n",
       "...                     ...  \n",
       "2941    amazon_watches_data  \n",
       "2942    amazon_watches_data  \n",
       "2943    amazon_watches_data  \n",
       "2944    amazon_watches_data  \n",
       "2945    amazon_watches_data  \n",
       "\n",
       "[2946 rows x 6 columns]"
      ]
     },
     "execution_count": 79,
     "metadata": {},
     "output_type": "execute_result"
    }
   ],
   "source": [
    "raw_df=pd.read_csv('../artifacts/data/raw_data.csv')\n",
    "raw_df"
   ]
  },
  {
   "cell_type": "code",
   "execution_count": 80,
   "id": "23aa596f",
   "metadata": {},
   "outputs": [
    {
     "data": {
      "text/plain": [
       "title             0\n",
       "price             0\n",
       "rating            0\n",
       "reviews         201\n",
       "availability     97\n",
       "Category          0\n",
       "dtype: int64"
      ]
     },
     "execution_count": 80,
     "metadata": {},
     "output_type": "execute_result"
    }
   ],
   "source": [
    "raw_df.isna().sum()"
   ]
  },
  {
   "cell_type": "code",
   "execution_count": 81,
   "id": "1c6e7f7a",
   "metadata": {},
   "outputs": [
    {
     "data": {
      "text/plain": [
       "title           0\n",
       "price           0\n",
       "rating          0\n",
       "reviews         0\n",
       "availability    0\n",
       "Category        0\n",
       "dtype: int64"
      ]
     },
     "execution_count": 81,
     "metadata": {},
     "output_type": "execute_result"
    }
   ],
   "source": [
    "clean_df.isna().sum()"
   ]
  },
  {
   "cell_type": "code",
   "execution_count": 82,
   "id": "d8114ac2",
   "metadata": {},
   "outputs": [
    {
     "name": "stdout",
     "output_type": "stream",
     "text": [
      "<class 'pandas.core.frame.DataFrame'>\n",
      "RangeIndex: 2087 entries, 0 to 2086\n",
      "Data columns (total 6 columns):\n",
      " #   Column        Non-Null Count  Dtype  \n",
      "---  ------        --------------  -----  \n",
      " 0   title         2087 non-null   object \n",
      " 1   price         2087 non-null   float64\n",
      " 2   rating        2087 non-null   float64\n",
      " 3   reviews       2087 non-null   int64  \n",
      " 4   availability  2087 non-null   object \n",
      " 5   Category      2087 non-null   object \n",
      "dtypes: float64(2), int64(1), object(3)\n",
      "memory usage: 98.0+ KB\n"
     ]
    }
   ],
   "source": [
    "clean_df.info()"
   ]
  },
  {
   "cell_type": "code",
   "execution_count": 83,
   "id": "0ad2e4d9",
   "metadata": {},
   "outputs": [
    {
     "data": {
      "text/plain": [
       "availability\n",
       "In stock         2008\n",
       "Not Available      79\n",
       "Name: count, dtype: int64"
      ]
     },
     "execution_count": 83,
     "metadata": {},
     "output_type": "execute_result"
    }
   ],
   "source": [
    "clean_df['availability'].value_counts()"
   ]
  },
  {
   "cell_type": "code",
   "execution_count": 90,
   "id": "016b2677",
   "metadata": {},
   "outputs": [
    {
     "data": {
      "text/plain": [
       "Category\n",
       "sofa                  326\n",
       "watches               301\n",
       "men shirt             254\n",
       "headphone             160\n",
       "washing machine       153\n",
       "fridge                152\n",
       "laptop                147\n",
       "books                 147\n",
       "smart tv              145\n",
       "mobile accessories    143\n",
       "sneakers              113\n",
       "tablet                 46\n",
       "Name: count, dtype: int64"
      ]
     },
     "execution_count": 90,
     "metadata": {},
     "output_type": "execute_result"
    }
   ],
   "source": [
    "clean_df['Category'].value_counts()"
   ]
  },
  {
   "cell_type": "code",
   "execution_count": null,
   "id": "47cbdb23",
   "metadata": {},
   "outputs": [],
   "source": []
  },
  {
   "cell_type": "code",
   "execution_count": null,
   "id": "ea6d8599",
   "metadata": {},
   "outputs": [],
   "source": []
  },
  {
   "cell_type": "code",
   "execution_count": 84,
   "id": "2ba8f9bb",
   "metadata": {},
   "outputs": [
    {
     "name": "stdout",
     "output_type": "stream",
     "text": [
      "<class 'pandas.core.frame.DataFrame'>\n",
      "RangeIndex: 2946 entries, 0 to 2945\n",
      "Data columns (total 6 columns):\n",
      " #   Column        Non-Null Count  Dtype \n",
      "---  ------        --------------  ----- \n",
      " 0   title         2946 non-null   object\n",
      " 1   price         2946 non-null   object\n",
      " 2   rating        2946 non-null   object\n",
      " 3   reviews       2745 non-null   object\n",
      " 4   availability  2849 non-null   object\n",
      " 5   Category      2946 non-null   object\n",
      "dtypes: object(6)\n",
      "memory usage: 138.2+ KB\n"
     ]
    }
   ],
   "source": [
    "raw_df.info()"
   ]
  },
  {
   "cell_type": "code",
   "execution_count": 85,
   "id": "c23dd379",
   "metadata": {},
   "outputs": [
    {
     "data": {
      "text/plain": [
       "Category\n",
       "amazon_men shirt_data             480\n",
       "amazon_watches_data               444\n",
       "amazon_sofa_data                  378\n",
       "amazon_laptop_data                220\n",
       "amazon_washing machine_data       220\n",
       "amazon_headphone_data             220\n",
       "amazon_smart tv_data              196\n",
       "amazon_books_data                 196\n",
       "amazon_fridge_data                190\n",
       "amazon_mobile accessories_data    178\n",
       "amazon_sneakers_data              166\n",
       "amazon_tablet_data                 58\n",
       "Name: count, dtype: int64"
      ]
     },
     "execution_count": 85,
     "metadata": {},
     "output_type": "execute_result"
    }
   ],
   "source": [
    "raw_df['Category'].value_counts()"
   ]
  },
  {
   "cell_type": "code",
   "execution_count": 86,
   "id": "441705b4",
   "metadata": {},
   "outputs": [
    {
     "data": {
      "text/plain": [
       "rating\n",
       "4.0 out of 5 stars                             339\n",
       "4.2 out of 5 stars                             193\n",
       "4.3 out of 5 stars                             185\n",
       "4.5 out of 5 stars                             181\n",
       "4.4 stars                                      179\n",
       "4.1 out of 5 stars                             171\n",
       "3.9 out of 5 stars                             159\n",
       "4.4 out of 5 stars                             158\n",
       "Previous page                                  149\n",
       "3.8 out of 5 stars                             138\n",
       "4.5 stars                                      127\n",
       "5.0 out of 5 stars                             110\n",
       "4.7 stars                                      108\n",
       "4.3 stars                                       95\n",
       "3.7 out of 5 stars                              85\n",
       "4.7 out of 5 stars                              83\n",
       "3.6 out of 5 stars                              72\n",
       "4.6 out of 5 stars                              70\n",
       "3.5 out of 5 stars                              45\n",
       "4.2 stars                                       42\n",
       "3.4 out of 5 stars                              28\n",
       "4.8 out of 5 stars                              26\n",
       "4.8 stars                                       25\n",
       "3.0 out of 5 stars                              23\n",
       "4.1 stars                                       23\n",
       "3.3 out of 5 stars                              18\n",
       "4.9 out of 5 stars                              17\n",
       "3.1 out of 5 stars                              15\n",
       "3.2 out of 5 stars                              14\n",
       "2.0 out of 5 stars                              10\n",
       "2.9 out of 5 stars                               8\n",
       "4.6 stars                                        8\n",
       "Previous slide of product details                7\n",
       "Previous page of related Sponsored Products      7\n",
       "2.8 out of 5 stars                               6\n",
       "2.7 out of 5 stars                               5\n",
       "1.9 out of 5 stars                               3\n",
       "1.7 out of 5 stars                               3\n",
       "1.0 out of 5 stars                               3\n",
       "2.1 out of 5 stars                               3\n",
       "2.5 out of 5 stars                               2\n",
       "2.4 out of 5 stars                               1\n",
       "2.3 out of 5 stars                               1\n",
       "1.4 out of 5 stars                               1\n",
       "Name: count, dtype: int64"
      ]
     },
     "execution_count": 86,
     "metadata": {},
     "output_type": "execute_result"
    }
   ],
   "source": [
    "raw_df['rating'].value_counts()"
   ]
  },
  {
   "cell_type": "code",
   "execution_count": 87,
   "id": "415bb919",
   "metadata": {},
   "outputs": [
    {
     "data": {
      "text/plain": [
       "rating\n",
       "4.4    262\n",
       "4.5    237\n",
       "4.3    221\n",
       "4.0    177\n",
       "4.2    170\n",
       "4.7    132\n",
       "4.1    129\n",
       "0.0    117\n",
       "3.9    109\n",
       "3.8     91\n",
       "5.0     80\n",
       "4.6     60\n",
       "3.7     59\n",
       "3.6     58\n",
       "4.8     36\n",
       "3.5     34\n",
       "3.4     23\n",
       "3.0     18\n",
       "3.3     12\n",
       "4.9     12\n",
       "3.1     12\n",
       "3.2      9\n",
       "2.0      5\n",
       "2.9      5\n",
       "2.8      4\n",
       "1.7      3\n",
       "2.1      3\n",
       "1.0      3\n",
       "1.4      1\n",
       "2.4      1\n",
       "2.5      1\n",
       "2.3      1\n",
       "2.7      1\n",
       "1.9      1\n",
       "Name: count, dtype: int64"
      ]
     },
     "execution_count": 87,
     "metadata": {},
     "output_type": "execute_result"
    }
   ],
   "source": [
    "clean_df['rating'].value_counts()"
   ]
  },
  {
   "cell_type": "code",
   "execution_count": 88,
   "id": "974ca439",
   "metadata": {},
   "outputs": [
    {
     "data": {
      "text/plain": [
       "price\n",
       "              1122\n",
       "₹1,299.00       32\n",
       "₹999.00         23\n",
       "₹18,999.00      20\n",
       "₹1,099.00       20\n",
       "              ... \n",
       "₹32,899.00       1\n",
       "₹32,498.00       1\n",
       "₹24,399.00       1\n",
       "₹8,009.00        1\n",
       "₹1,165.00        1\n",
       "Name: count, Length: 691, dtype: int64"
      ]
     },
     "execution_count": 88,
     "metadata": {},
     "output_type": "execute_result"
    }
   ],
   "source": [
    "raw_df['price'].value_counts()"
   ]
  },
  {
   "cell_type": "code",
   "execution_count": 89,
   "id": "e9b1f391",
   "metadata": {},
   "outputs": [
    {
     "data": {
      "text/plain": [
       "availability\n",
       "In stock                                                2417\n",
       "Not Available                                            142\n",
       "Only 1 left in stock.                                    117\n",
       "Available to ship in 1-2 days                             78\n",
       "Only 2 left in stock.                                     57\n",
       "Only 4 left in stock.                                     12\n",
       "Only 5 left in stock.                                     12\n",
       "Only 3 left in stock.                                     11\n",
       "This title will be released around November 4, 2025.       2\n",
       "This title will be released around May 8, 2025.            1\n",
       "Name: count, dtype: int64"
      ]
     },
     "execution_count": 89,
     "metadata": {},
     "output_type": "execute_result"
    }
   ],
   "source": [
    "raw_df['availability'].value_counts()"
   ]
  },
  {
   "cell_type": "code",
   "execution_count": null,
   "id": "f187da49",
   "metadata": {},
   "outputs": [],
   "source": []
  }
 ],
 "metadata": {
  "kernelspec": {
   "display_name": "my_env",
   "language": "python",
   "name": "python3"
  },
  "language_info": {
   "codemirror_mode": {
    "name": "ipython",
    "version": 3
   },
   "file_extension": ".py",
   "mimetype": "text/x-python",
   "name": "python",
   "nbconvert_exporter": "python",
   "pygments_lexer": "ipython3",
   "version": "3.11.0"
  }
 },
 "nbformat": 4,
 "nbformat_minor": 5
}
